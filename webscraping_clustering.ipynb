{
  "nbformat": 4,
  "nbformat_minor": 0,
  "metadata": {
    "colab": {
      "name": "kognoz.ipynb",
      "provenance": [],
      "collapsed_sections": []
    },
    "kernelspec": {
      "name": "python3",
      "display_name": "Python 3"
    }
  },
  "cells": [
    {
      "cell_type": "code",
      "metadata": {
        "id": "vYFUsvK7CZIl",
        "colab_type": "code",
        "colab": {}
      },
      "source": [
        "import warnings\n",
        "warnings.filterwarnings(\"ignore\")\n",
        "import pandas as pd\n",
        "from xml.dom import minidom\n",
        "import requests\n",
        "import xml.etree.ElementTree as ET\n",
        "import re\n",
        "import nltk\n",
        "from sklearn.feature_extraction.text import TfidfVectorizer\n",
        "from nltk.stem.snowball import SnowballStemmer\n",
        "from scipy.sparse import hstack\n",
        "from sklearn.cluster import KMeans\n",
        "from sklearn.metrics.pairwise import cosine_similarity\n",
        "from sklearn.externals import joblib\n",
        "import matplotlib.pyplot as plt"
      ],
      "execution_count": 138,
      "outputs": []
    },
    {
      "cell_type": "code",
      "metadata": {
        "id": "yj-O8pPDESMr",
        "colab_type": "code",
        "colab": {}
      },
      "source": [
        "file_name = '/content/Sample-XML.xml'"
      ],
      "execution_count": 139,
      "outputs": []
    },
    {
      "cell_type": "code",
      "metadata": {
        "id": "9jxnf8PNEjMQ",
        "colab_type": "code",
        "colab": {}
      },
      "source": [
        "def ExtractDataFromXML(file_name):\n",
        "    path = file_name\n",
        "    dfcols = ['title', 'link', 'description','pubDate', 'articleid', 'website', 'issue', 'type', 'showcase']\n",
        "    root = ET.parse(path)\n",
        "    rows = root.findall('./channel/item')\n",
        "    xml_data =[]\n",
        "    for row in rows:\n",
        "        first_data = []\n",
        "        for col in dfcols:\n",
        "            try:\n",
        "                first_data.append(row.find(col).text)\n",
        "            except AttributeError:\n",
        "                first_data.append('No values')\n",
        "        xml_data.append(first_data)\n",
        "    df_xml = pd.DataFrame(xml_data, columns=dfcols)\n",
        "    return df_xml"
      ],
      "execution_count": 140,
      "outputs": []
    },
    {
      "cell_type": "code",
      "metadata": {
        "id": "n3t5eFCjGAJL",
        "colab_type": "code",
        "colab": {}
      },
      "source": [
        "def missing_data(df):\n",
        "\n",
        "    df.drop(df[df['description'] == 'No values'].index,inplace = True)\n",
        "    return df.reset_index(drop = True)"
      ],
      "execution_count": 141,
      "outputs": []
    },
    {
      "cell_type": "code",
      "metadata": {
        "id": "7cV6HSrwNkTF",
        "colab_type": "code",
        "colab": {}
      },
      "source": [
        "def basic_details(df):\n",
        "    print(\"-\"*50)\n",
        "    print(df.shape)\n",
        "    print(\"-\"*50)\n",
        "    print(df.columns)\n",
        "    print(\"-\"*50)\n",
        "    print(df.dtypes)"
      ],
      "execution_count": 142,
      "outputs": []
    },
    {
      "cell_type": "code",
      "metadata": {
        "id": "zelv9ZgiE8JJ",
        "colab_type": "code",
        "colab": {
          "base_uri": "https://localhost:8080/",
          "height": 969
        },
        "outputId": "57503022-6d9d-4006-bf41-849f9470063a"
      },
      "source": [
        "print('----Actual data------')\n",
        "df_xml = ExtractDataFromXML(file_name)\n",
        "print('-----------baisc details----------------')\n",
        "basic_details(df_xml)\n",
        "print(\"=\"*100)\n",
        "print(df_xml.head())\n",
        "print(\"=\"*100)\n",
        "print(df_xml.head())\n",
        "print('-----droping extra columns----------')\n",
        "df_xml.drop(['link','pubDate','articleid','website','type','showcase'],axis = 1, inplace = True)\n",
        "print('------missing data handling-----------')\n",
        "missing_dropped_df = missing_data(df_xml)\n",
        "missing_dropped_df.to_csv('/content/data-XML.csv',index= False)\n",
        "print(missing_dropped_df.head())\n",
        "print(\"=\"*100)\n",
        "print(missing_dropped_df.tail())"
      ],
      "execution_count": 143,
      "outputs": [
        {
          "output_type": "stream",
          "text": [
            "----Actual data------\n",
            "-----------baisc details----------------\n",
            "--------------------------------------------------\n",
            "(500, 9)\n",
            "--------------------------------------------------\n",
            "Index(['title', 'link', 'description', 'pubDate', 'articleid', 'website',\n",
            "       'issue', 'type', 'showcase'],\n",
            "      dtype='object')\n",
            "--------------------------------------------------\n",
            "title          object\n",
            "link           object\n",
            "description    object\n",
            "pubDate        object\n",
            "articleid      object\n",
            "website        object\n",
            "issue          object\n",
            "type           object\n",
            "showcase       object\n",
            "dtype: object\n",
            "====================================================================================================\n",
            "                                               title  ... showcase\n",
            "0  No Duty on Chinese Imports for Public Solar Po...  ...       NO\n",
            "1   Solar Tariffs Fall to Record Low of Rs 2.36/Unit  ...       NO\n",
            "2                  Corning appoints new MD for India  ...       NO\n",
            "3  L&T Makes Key Component for Advanced Nuclear R...  ...       NO\n",
            "4  Two percent discount on lump sum payment of el...  ...       NO\n",
            "\n",
            "[5 rows x 9 columns]\n",
            "====================================================================================================\n",
            "                                               title  ... showcase\n",
            "0  No Duty on Chinese Imports for Public Solar Po...  ...       NO\n",
            "1   Solar Tariffs Fall to Record Low of Rs 2.36/Unit  ...       NO\n",
            "2                  Corning appoints new MD for India  ...       NO\n",
            "3  L&T Makes Key Component for Advanced Nuclear R...  ...       NO\n",
            "4  Two percent discount on lump sum payment of el...  ...       NO\n",
            "\n",
            "[5 rows x 9 columns]\n",
            "-----droping extra columns----------\n",
            "------missing data handling-----------\n",
            "                                               title  ...                                              issue\n",
            "0  No Duty on Chinese Imports for Public Solar Po...  ...  Ministry of New and Renewable Energy, Ministry...\n",
            "1   Solar Tariffs Fall to Record Low of Rs 2.36/Unit  ...               Ministry of New and Renewable Energy\n",
            "2                  Corning appoints new MD for India  ...                                          Honeywell\n",
            "3  L&T Makes Key Component for Advanced Nuclear R...  ...                               L&T, Larsen & Toubro\n",
            "4  MERC directs power discoms to make billing tra...  ...                                     Power Minister\n",
            "\n",
            "[5 rows x 3 columns]\n",
            "====================================================================================================\n",
            "                                                 title  ...                  issue\n",
            "487  Canada: COVID-19 Relief For Saskatchewan Minin...  ...  General Industry news\n",
            "488  TN boiler explosion: Amit Shah assures all pos...  ...    Power Industry News\n",
            "489  TN boiler explosion: Amit Shah assures all pos...  ...    Power Industry News\n",
            "490  Tamil Nadu: 6 lost their lives, 17 injured in ...  ...    Power Industry News\n",
            "491     New investments in India plunge to 16-year low  ...                Economy\n",
            "\n",
            "[5 rows x 3 columns]\n"
          ],
          "name": "stdout"
        }
      ]
    },
    {
      "cell_type": "code",
      "metadata": {
        "id": "94uQfPgZGkKm",
        "colab_type": "code",
        "colab": {}
      },
      "source": [
        "stopwords= ['i', 'me', 'my', 'myself', 'we', 'our', 'ours', 'ourselves', 'you', \"you're\", \"you've\",\\\n",
        "            \"you'll\", \"you'd\", 'your', 'yours', 'yourself', 'yourselves', 'he', 'him', 'his', 'himself', \\\n",
        "            'she', \"she's\", 'her', 'hers', 'herself', 'it', \"it's\", 'its', 'itself', 'they', 'them', 'their',\\\n",
        "            'theirs', 'themselves', 'what', 'which', 'who', 'whom', 'this', 'that', \"that'll\", 'these', 'those', \\\n",
        "            'am', 'is', 'are', 'was', 'were', 'be', 'been', 'being', 'have', 'has', 'had', 'having', 'do', 'does', \\\n",
        "            'did', 'doing', 'a', 'an', 'the', 'and', 'but', 'if', 'or', 'because', 'as', 'until', 'while', 'of', \\\n",
        "            'at', 'by', 'for', 'with', 'about', 'against', 'between', 'into', 'through', 'during', 'before', 'after',\\\n",
        "            'above', 'below', 'to', 'from', 'up', 'down', 'in', 'out', 'on', 'off', 'over', 'under', 'again', 'further',\\\n",
        "            'then', 'once', 'here', 'there', 'when', 'where', 'why', 'how', 'all', 'any', 'both', 'each', 'few', 'more',\\\n",
        "            'most', 'other', 'some', 'such', 'only', 'own', 'same', 'so', 'than', 'too', 'very', \\\n",
        "            's', 't', 'can', 'will', 'just', 'don', \"don't\", 'should', \"should've\", 'now', 'd', 'll', 'm', 'o', 're', \\\n",
        "            've', 'y', 'ain', 'aren', \"aren't\", 'couldn', \"couldn't\", 'didn', \"didn't\", 'doesn', \"doesn't\", 'hadn',\\\n",
        "            \"hadn't\", 'hasn', \"hasn't\", 'haven', \"haven't\", 'isn', \"isn't\", 'ma', 'mightn', \"mightn't\", 'mustn',\\\n",
        "            \"mustn't\", 'needn', \"needn't\", 'shan', \"shan't\", 'shouldn', \"shouldn't\", 'wasn', \"wasn't\", 'weren', \"weren't\", \\\n",
        "            'won', \"won't\", 'wouldn', \"wouldn't\"]"
      ],
      "execution_count": 144,
      "outputs": []
    },
    {
      "cell_type": "code",
      "metadata": {
        "id": "JCA4w6hEFN0g",
        "colab_type": "code",
        "colab": {}
      },
      "source": [
        "def decontracted(phrase):\n",
        "    phrase = [word for word in phrase.split() if len(word) > 3]\n",
        "    phrase = ' '.join(phrase)\n",
        "    # specific\n",
        "    phrase = re.sub(r\"won't\", \"will not\", phrase)\n",
        "    phrase = re.sub(r\"can\\'t\", \"can not\", phrase)\n",
        "\n",
        "    # general\n",
        "    phrase = re.sub(r\"n\\'t\", \" not\", phrase)\n",
        "    phrase = re.sub(r\"\\'re\", \" are\", phrase)\n",
        "    phrase = re.sub(r\"\\'s\", \" is\", phrase)\n",
        "    phrase = re.sub(r\"\\'d\", \" would\", phrase)\n",
        "    phrase = re.sub(r\"\\'ll\", \" will\", phrase)\n",
        "    phrase = re.sub(r\"\\'t\", \" not\", phrase)\n",
        "    phrase = re.sub(r\"\\'ve\", \" have\", phrase)\n",
        "    phrase = re.sub(r\"\\'m\", \" am\", phrase)\n",
        "\n",
        "    phrase = phrase.replace('\\\\r', ' ')\n",
        "    phrase = phrase.replace('\\\\n', ' ')\n",
        "    phrase = phrase.replace('\\\\\"', ' ')\n",
        "    phrase = re.sub('[^A-Za-z0-9]+', ' ', phrase)\n",
        "    phrase= ' '.join(e for e in phrase.split() if e.lower() not in stopwords)\n",
        "    return phrase\n"
      ],
      "execution_count": 145,
      "outputs": []
    },
    {
      "cell_type": "code",
      "metadata": {
        "id": "4VJF_uJwGeVt",
        "colab_type": "code",
        "colab": {}
      },
      "source": [
        "def data_cleaning(df):\n",
        "    for col in df.columns:\n",
        "        df[col] = df[col].apply(lambda x : decontracted(str(x)))\n",
        "    return df"
      ],
      "execution_count": 146,
      "outputs": []
    },
    {
      "cell_type": "code",
      "metadata": {
        "id": "zexf12B9GVUD",
        "colab_type": "code",
        "colab": {
          "base_uri": "https://localhost:8080/",
          "height": 187
        },
        "outputId": "ec9d39fe-d46d-4bbf-bef2-9e509304f626"
      },
      "source": [
        "print(\"=\"*10 +'Data cleaning started' +\"=\"*10)\n",
        "cleaned_df = data_cleaning(missing_dropped_df)\n",
        "print(cleaned_df.head())\n",
        "print(cleaned_df.shape)"
      ],
      "execution_count": 147,
      "outputs": [
        {
          "output_type": "stream",
          "text": [
            "==========Data cleaning started==========\n",
            "                                               title  ...                                          issue\n",
            "0  Duty Chinese Imports Public Solar Power Projec...  ...  Ministry Renewable Energy Ministry Power MNRE\n",
            "1                Solar Tariffs Fall Record 2 36 Unit  ...                      Ministry Renewable Energy\n",
            "2                             Corning appoints India  ...                                      Honeywell\n",
            "3           Makes Component Advanced Nuclear Reactor  ...                                L Larsen Toubro\n",
            "4  MERC directs power discoms make billing transp...  ...                                 Power Minister\n",
            "\n",
            "[5 rows x 3 columns]\n",
            "(492, 3)\n"
          ],
          "name": "stdout"
        }
      ]
    },
    {
      "cell_type": "code",
      "metadata": {
        "id": "rCv-oqo0HI_7",
        "colab_type": "code",
        "colab": {
          "base_uri": "https://localhost:8080/",
          "height": 68
        },
        "outputId": "72b61dd4-f868-4d3f-aedc-0c9a4f4da396"
      },
      "source": [
        "nltk.download('punkt')"
      ],
      "execution_count": 148,
      "outputs": [
        {
          "output_type": "stream",
          "text": [
            "[nltk_data] Downloading package punkt to /root/nltk_data...\n",
            "[nltk_data]   Package punkt is already up-to-date!\n"
          ],
          "name": "stdout"
        },
        {
          "output_type": "execute_result",
          "data": {
            "text/plain": [
              "True"
            ]
          },
          "metadata": {
            "tags": []
          },
          "execution_count": 148
        }
      ]
    },
    {
      "cell_type": "code",
      "metadata": {
        "id": "zBujOZ2OG-Q3",
        "colab_type": "code",
        "colab": {}
      },
      "source": [
        "def tokenize_and_stem(text):\n",
        "    stemmer = SnowballStemmer(\"english\")\n",
        "    tokens = [word for sent in nltk.sent_tokenize(text) for word in nltk.word_tokenize(sent)]\n",
        "    filtered_tokens = []\n",
        "    for token in tokens:\n",
        "        if re.search('[a-zA-Z]', token):\n",
        "            filtered_tokens.append(token)\n",
        "    stems = [stemmer.stem(t) for t in filtered_tokens]\n",
        "    stems = ' '.join(stems)\n",
        "    return stems\n"
      ],
      "execution_count": 149,
      "outputs": []
    },
    {
      "cell_type": "code",
      "metadata": {
        "id": "YP68ItjtGr4u",
        "colab_type": "code",
        "colab": {}
      },
      "source": [
        "def tokenized_data(df):\n",
        "    for col in df.columns:\n",
        "        df[col] = df[col].apply(lambda x: tokenize_and_stem(x))\n",
        "    return df"
      ],
      "execution_count": 150,
      "outputs": []
    },
    {
      "cell_type": "code",
      "metadata": {
        "id": "yJg7TC4rG1JS",
        "colab_type": "code",
        "colab": {
          "base_uri": "https://localhost:8080/",
          "height": 187
        },
        "outputId": "8d9eecbf-d9f0-4c00-a435-e8ec70c286bf"
      },
      "source": [
        "print(\"=\"*10 + \"tpkenization started\" +\"=\"*10)\n",
        "tokenized_df = tokenized_data(cleaned_df)\n",
        "print(f\"tokenized_df shape:{tokenized_df.shape}\")\n",
        "print(tokenized_df.head())"
      ],
      "execution_count": 151,
      "outputs": [
        {
          "output_type": "stream",
          "text": [
            "==========tpkenization started==========\n",
            "tokenized_df shape:(492, 3)\n",
            "                                               title  ...                                      issue\n",
            "0  duti chines import public solar power project ...  ...  ministri renew energi ministri power mnre\n",
            "1                      solar tariff fall record unit  ...                      ministri renew energi\n",
            "2                                 corn appoint india  ...                                   honeywel\n",
            "3                 make compon advanc nuclear reactor  ...                            l larsen toubro\n",
            "4        merc direct power discom make bill transpar  ...                               power minist\n",
            "\n",
            "[5 rows x 3 columns]\n"
          ],
          "name": "stdout"
        }
      ]
    },
    {
      "cell_type": "code",
      "metadata": {
        "id": "DO-E8Z70HEZU",
        "colab_type": "code",
        "colab": {}
      },
      "source": [
        "def Tf_idf(text):\n",
        "    vectorizer = TfidfVectorizer(min_df = 20)\n",
        "    text_tfidf = vectorizer.fit_transform(text)\n",
        "    print(\"Shape of matrix after one hot encodig \",text_tfidf.shape)\n",
        "    return text_tfidf"
      ],
      "execution_count": 152,
      "outputs": []
    },
    {
      "cell_type": "code",
      "metadata": {
        "id": "DhSXHi0aHgiC",
        "colab_type": "code",
        "colab": {
          "base_uri": "https://localhost:8080/",
          "height": 102
        },
        "outputId": "0bf49837-94ce-40ca-81c4-0e2b87039047"
      },
      "source": [
        "print('-----------vectorizing the data-----------')\n",
        "title = tokenized_df['title'].values\n",
        "description = tokenized_df['description'].values\n",
        "issue = tokenized_df['issue'].values\n",
        "print(\"=\"*100)\n",
        "title_tfidf = Tf_idf(title)\n",
        "description_tfidf = Tf_idf(description)\n",
        "issue_tfidf = Tf_idf(issue)\n"
      ],
      "execution_count": 153,
      "outputs": [
        {
          "output_type": "stream",
          "text": [
            "-----------vectorizing the data-----------\n",
            "====================================================================================================\n",
            "Shape of matrix after one hot encodig  (492, 18)\n",
            "Shape of matrix after one hot encodig  (492, 1010)\n",
            "Shape of matrix after one hot encodig  (492, 9)\n"
          ],
          "name": "stdout"
        }
      ]
    },
    {
      "cell_type": "code",
      "metadata": {
        "id": "M-YcJMJMU3DW",
        "colab_type": "code",
        "colab": {
          "base_uri": "https://localhost:8080/",
          "height": 51
        },
        "outputId": "da14127d-8c4a-4c02-d463-622492b65c5c"
      },
      "source": [
        "final_dataset = hstack((title_tfidf, description_tfidf,issue_tfidf)).tocsr()\n",
        "print(f\"final_dataset shape:{final_dataset.shape}\")\n",
        "print('---------cosine similarity--------------')"
      ],
      "execution_count": 154,
      "outputs": [
        {
          "output_type": "stream",
          "text": [
            "final_dataset shape:(492, 1037)\n",
            "---------cosine similarity--------------\n"
          ],
          "name": "stdout"
        }
      ]
    },
    {
      "cell_type": "code",
      "metadata": {
        "id": "8qqklnIQH3cA",
        "colab_type": "code",
        "colab": {}
      },
      "source": [
        "def finding_optimalK(data_transformed):\n",
        "    Sum_of_squared_distances = []\n",
        "    K = range(1,15)\n",
        "    for k in K:\n",
        "        km = KMeans(n_clusters=k)\n",
        "        km = km.fit(data_transformed)\n",
        "        Sum_of_squared_distances.append(km.inertia_)\n",
        "    plt.plot(K, Sum_of_squared_distances, 'bx-')\n",
        "    plt.xlabel('k')\n",
        "    plt.ylabel('Sum_of_squared_distances')\n",
        "    plt.title('Elbow Method For Optimal k')\n",
        "    plt.show()"
      ],
      "execution_count": 155,
      "outputs": []
    },
    {
      "cell_type": "code",
      "metadata": {
        "id": "-7hobjvcIAtt",
        "colab_type": "code",
        "colab": {
          "base_uri": "https://localhost:8080/",
          "height": 312
        },
        "outputId": "af77744b-36bd-44f5-e057-c552f216b7af"
      },
      "source": [
        "print('-----finding optimal k-----------')\n",
        "finding_optimalK(final_dataset)"
      ],
      "execution_count": 156,
      "outputs": [
        {
          "output_type": "stream",
          "text": [
            "-----finding optimal k-----------\n"
          ],
          "name": "stdout"
        },
        {
          "output_type": "display_data",
          "data": {
            "image/png": "[encoded data removed]",
            "text/plain": [
              "<Figure size 432x288 with 1 Axes>"
            ]
          },
          "metadata": {
            "tags": [],
            "needs_background": "light"
          }
        }
      ]
    },
    {
      "cell_type": "code",
      "metadata": {
        "id": "gWCeo5pFIUh4",
        "colab_type": "code",
        "colab": {
          "base_uri": "https://localhost:8080/",
          "height": 71
        },
        "outputId": "31481c16-1b77-4404-fe36-69a3088d9b8d"
      },
      "source": [
        "print('-------optimal k = 7 -----------')\n",
        "num_clusters = 7\n",
        "km = KMeans(n_clusters=num_clusters,random_state= 42)\n",
        "km.fit(final_dataset)\n",
        "joblib.dump(km,'/content/kognoz_cluster.pkl')\n",
        "data_pkl = joblib.load('/content/kognoz_cluster.pkl')\n",
        "clusters = data_pkl.labels_.tolist()\n",
        "print(clusters)\n",
        "updated_df = missing_dropped_df.copy()\n",
        "updated_df['clusters'] = clusters\n"
      ],
      "execution_count": 157,
      "outputs": [
        {
          "output_type": "stream",
          "text": [
            "-------optimal k = 7 -----------\n",
            "[4, 4, 2, 4, 4, 4, 4, 4, 4, 4, 4, 4, 4, 4, 4, 4, 2, 0, 5, 5, 0, 2, 4, 4, 0, 2, 5, 0, 2, 2, 2, 2, 0, 2, 0, 2, 0, 2, 0, 0, 5, 0, 2, 2, 2, 4, 5, 6, 0, 2, 6, 2, 0, 2, 1, 0, 4, 2, 1, 5, 0, 2, 0, 0, 5, 4, 5, 5, 2, 0, 2, 0, 0, 5, 5, 2, 2, 5, 5, 0, 5, 1, 0, 1, 1, 4, 1, 5, 4, 4, 0, 5, 1, 0, 4, 2, 5, 5, 1, 5, 6, 5, 4, 1, 4, 1, 4, 5, 4, 5, 0, 0, 2, 2, 2, 0, 0, 4, 0, 4, 2, 0, 4, 5, 5, 4, 2, 5, 0, 1, 4, 5, 2, 4, 5, 5, 4, 1, 0, 6, 5, 6, 0, 1, 1, 0, 6, 1, 2, 1, 0, 1, 6, 6, 0, 6, 5, 5, 4, 2, 0, 1, 4, 6, 6, 2, 5, 0, 5, 2, 0, 5, 0, 1, 0, 2, 4, 6, 4, 0, 0, 0, 2, 4, 1, 0, 1, 2, 2, 2, 2, 6, 6, 6, 2, 6, 0, 2, 0, 0, 1, 2, 2, 1, 0, 4, 5, 1, 0, 6, 0, 5, 1, 0, 0, 1, 6, 1, 0, 0, 4, 1, 6, 6, 2, 2, 5, 1, 0, 1, 1, 0, 6, 6, 1, 6, 0, 5, 5, 6, 2, 6, 5, 2, 2, 6, 6, 1, 2, 6, 6, 0, 4, 6, 2, 4, 0, 0, 6, 4, 0, 5, 6, 6, 0, 6, 4, 5, 4, 2, 1, 4, 0, 0, 5, 0, 2, 4, 5, 5, 1, 2, 1, 6, 2, 2, 4, 2, 0, 0, 0, 1, 6, 6, 0, 6, 1, 5, 0, 4, 2, 0, 4, 2, 1, 0, 2, 4, 1, 5, 0, 4, 0, 5, 5, 0, 4, 0, 0, 1, 4, 0, 5, 4, 4, 0, 4, 4, 5, 2, 5, 4, 5, 3, 0, 4, 5, 1, 3, 1, 0, 0, 3, 3, 5, 2, 5, 3, 1, 0, 4, 0, 4, 5, 0, 0, 6, 1, 3, 3, 3, 3, 5, 0, 2, 6, 3, 0, 3, 1, 0, 0, 3, 3, 3, 3, 0, 3, 1, 3, 4, 2, 3, 3, 3, 5, 4, 6, 6, 3, 6, 5, 3, 3, 0, 5, 4, 3, 3, 0, 1, 4, 0, 5, 3, 3, 3, 1, 3, 3, 1, 4, 0, 0, 0, 4, 6, 0, 2, 3, 3, 4, 6, 4, 1, 3, 5, 4, 3, 4, 3, 5, 0, 0, 5, 3, 4, 1, 3, 4, 5, 4, 5, 3, 1, 0, 3, 4, 3, 0, 0, 1, 3, 4, 3, 0, 4, 0, 1, 4, 6, 5, 4, 0, 0, 3, 3, 4, 1, 4, 3, 5, 4, 4, 4, 3, 4, 0, 6, 6, 2, 0, 0, 0, 5, 3, 3, 1, 3, 3, 3, 2]\n"
          ],
          "name": "stdout"
        }
      ]
    },
    {
      "cell_type": "code",
      "metadata": {
        "id": "5OX6PxzxMway",
        "colab_type": "code",
        "colab": {
          "base_uri": "https://localhost:8080/",
          "height": 34
        },
        "outputId": "7c1910e5-6a7a-401c-dd16-fedcd7f828b4"
      },
      "source": [
        "len(clusters)"
      ],
      "execution_count": 158,
      "outputs": [
        {
          "output_type": "execute_result",
          "data": {
            "text/plain": [
              "492"
            ]
          },
          "metadata": {
            "tags": []
          },
          "execution_count": 158
        }
      ]
    },
    {
      "cell_type": "code",
      "metadata": {
        "id": "aLL5cY3xJ1Cv",
        "colab_type": "code",
        "colab": {}
      },
      "source": [
        "updated_df.to_csv('/content/data_clustered_1st.csv',index= False)"
      ],
      "execution_count": 159,
      "outputs": []
    },
    {
      "cell_type": "code",
      "metadata": {
        "id": "QYjqdkd2Lj2t",
        "colab_type": "code",
        "colab": {
          "base_uri": "https://localhost:8080/",
          "height": 238
        },
        "outputId": "7b28ce0e-fd39-46e5-b201-b37edb5cf018"
      },
      "source": [
        "print(updated_df.tail(10))"
      ],
      "execution_count": 135,
      "outputs": [
        {
          "output_type": "stream",
          "text": [
            "                                                 title  ... clusters\n",
            "490                        yeblikksbild siden slik gmt  ...        2\n",
            "491  book samsung engin unknown ongc offici collud ...  ...        2\n",
            "492           cr capex plan aurangabad hyderabad plant  ...        5\n",
            "493  neyv power plant explos tamil nadu amit shah c...  ...        6\n",
            "494  neyv power plant explos tamil nadu amit shah c...  ...        6\n",
            "495      canada covid relief saskatchewan mine compani  ...        5\n",
            "496         boiler explos amit shah assur possibl help  ...        6\n",
            "497         boiler explos amit shah assur possibl help  ...        6\n",
            "498  tamil nadu lost live injur boiler explos power...  ...        6\n",
            "499                            invest india plung year  ...        5\n",
            "\n",
            "[10 rows x 4 columns]\n"
          ],
          "name": "stdout"
        }
      ]
    },
    {
      "cell_type": "code",
      "metadata": {
        "id": "_45b_71oLroL",
        "colab_type": "code",
        "colab": {
          "base_uri": "https://localhost:8080/",
          "height": 238
        },
        "outputId": "ecddddb1-968f-4b87-e1aa-d39c3f2507f1"
      },
      "source": [
        "print(updated_df.head(10))"
      ],
      "execution_count": 136,
      "outputs": [
        {
          "output_type": "stream",
          "text": [
            "                                               title  ... clusters\n",
            "0  duti chines import public solar power project ...  ...        1\n",
            "1                      solar tariff fall record unit  ...        5\n",
            "2                                 corn appoint india  ...        5\n",
            "3                 make compon advanc nuclear reactor  ...        5\n",
            "4          percent discount lump payment electr bill  ...        1\n",
            "5                     increas electr payment postpon  ...        1\n",
            "6        merc direct power discom make bill transpar  ...        1\n",
            "7      flag final assembl cryostat bn fusion reactor  ...        5\n",
            "8               corpor make energi wast wealth plant  ...        1\n",
            "9        okhla landfil chum power sdmc ink pact ntpc  ...        1\n",
            "\n",
            "[10 rows x 4 columns]\n"
          ],
          "name": "stdout"
        }
      ]
    },
    {
      "cell_type": "code",
      "metadata": {
        "id": "Ux8n0T4UOcqn",
        "colab_type": "code",
        "colab": {
          "base_uri": "https://localhost:8080/",
          "height": 34
        },
        "outputId": "70ffdc1f-17fe-4a86-d916-3a4b125f22a7"
      },
      "source": [
        "len(clusters)"
      ],
      "execution_count": 111,
      "outputs": [
        {
          "output_type": "execute_result",
          "data": {
            "text/plain": [
              "500"
            ]
          },
          "metadata": {
            "tags": []
          },
          "execution_count": 111
        }
      ]
    },
    {
      "cell_type": "code",
      "metadata": {
        "id": "33Dh75yRTRoQ",
        "colab_type": "code",
        "colab": {}
      },
      "source": [
        "def cluster_naming(c):\n",
        "    if c == 0:\n",
        "        return 'Customers News'\n",
        "    if c == 1:\n",
        "        return \"General Industry news\"\n",
        "    if c == 2:\n",
        "        return \"Niti Aayog\"\n",
        "    if c == 3:\n",
        "        return \"Power Industry News\"\n",
        "    if c == 4:\n",
        "        return \"Ministry of New and Renewable Energy,MNRE\"\n",
        "    if c == 5:\n",
        "        return \"Electric Vehicles\"\n",
        "    if c == 6:\n",
        "        return \"Stock market\""
      ],
      "execution_count": 160,
      "outputs": []
    },
    {
      "cell_type": "code",
      "metadata": {
        "id": "1YiYDPAWY_8n",
        "colab_type": "code",
        "colab": {}
      },
      "source": [
        "updated_df['News type'] = updated_df['clusters'].apply(lambda x : cluster_naming(x))"
      ],
      "execution_count": 161,
      "outputs": []
    },
    {
      "cell_type": "code",
      "metadata": {
        "id": "cFoz548UbMPJ",
        "colab_type": "code",
        "colab": {}
      },
      "source": [
        "updated_df.to_csv('/content/data_clustered.csv',index= False)"
      ],
      "execution_count": 162,
      "outputs": []
    },
    {
      "cell_type": "code",
      "metadata": {
        "id": "TxymAVpnaH2v",
        "colab_type": "code",
        "colab": {
          "base_uri": "https://localhost:8080/",
          "height": 306
        },
        "outputId": "e630e35c-1171-41a4-f48f-0d7cce5a4c09"
      },
      "source": [
        "print(updated_df.head())\n",
        "print(\"=\"*100)\n",
        "print(updated_df.tail())"
      ],
      "execution_count": 163,
      "outputs": [
        {
          "output_type": "stream",
          "text": [
            "                                               title  ...                                  News type\n",
            "0  duti chines import public solar power project ...  ...  Ministry of New and Renewable Energy,MNRE\n",
            "1                      solar tariff fall record unit  ...  Ministry of New and Renewable Energy,MNRE\n",
            "2                                 corn appoint india  ...                                 Niti Aayog\n",
            "3                 make compon advanc nuclear reactor  ...  Ministry of New and Renewable Energy,MNRE\n",
            "4        merc direct power discom make bill transpar  ...  Ministry of New and Renewable Energy,MNRE\n",
            "\n",
            "[5 rows x 5 columns]\n",
            "====================================================================================================\n",
            "                                                 title  ...              News type\n",
            "487      canada covid relief saskatchewan mine compani  ...  General Industry news\n",
            "488         boiler explos amit shah assur possibl help  ...    Power Industry News\n",
            "489         boiler explos amit shah assur possibl help  ...    Power Industry News\n",
            "490  tamil nadu lost live injur boiler explos power...  ...    Power Industry News\n",
            "491                            invest india plung year  ...             Niti Aayog\n",
            "\n",
            "[5 rows x 5 columns]\n"
          ],
          "name": "stdout"
        }
      ]
    },
    {
      "cell_type": "code",
      "metadata": {
        "id": "NRHhGcp6i4Sj",
        "colab_type": "code",
        "colab": {
          "base_uri": "https://localhost:8080/",
          "height": 500
        },
        "outputId": "91713b9d-5411-417e-c33e-5b4b6a2372b8"
      },
      "source": [
        "updated_df['News type'].value_counts().plot.bar()"
      ],
      "execution_count": 164,
      "outputs": [
        {
          "output_type": "execute_result",
          "data": {
            "text/plain": [
              "<matplotlib.axes._subplots.AxesSubplot at 0x7f796c10eeb8>"
            ]
          },
          "metadata": {
            "tags": []
          },
          "execution_count": 164
        },
        {
          "output_type": "display_data",
          "data": {
            "image/png": "[encoded data removed]",
            "text/plain": [
              "<Figure size 432x288 with 1 Axes>"
            ]
          },
          "metadata": {
            "tags": [],
            "needs_background": "light"
          }
        }
      ]
    },
    {
      "cell_type": "code",
      "metadata": {
        "id": "ALD7Jd95jOuC",
        "colab_type": "code",
        "colab": {}
      },
      "source": [
        ""
      ],
      "execution_count": 116,
      "outputs": []
    }
  ]
}